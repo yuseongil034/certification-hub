{
  "nbformat": 4,
  "nbformat_minor": 0,
  "metadata": {
    "colab": {
      "provenance": [],
      "authorship_tag": "ABX9TyPCgDCPh0Au0tKSGNojlug4",
      "include_colab_link": true
    },
    "kernelspec": {
      "name": "python3",
      "display_name": "Python 3"
    },
    "language_info": {
      "name": "python"
    }
  },
  "cells": [
    {
      "cell_type": "markdown",
      "metadata": {
        "id": "view-in-github",
        "colab_type": "text"
      },
      "source": [
        "<a href=\"https://colab.research.google.com/github/yuseongil034/git_test_markdown_sample/blob/main/0626_python_list.ipynb\" target=\"_parent\"><img src=\"https://colab.research.google.com/assets/colab-badge.svg\" alt=\"Open In Colab\"/></a>"
      ]
    },
    {
      "cell_type": "markdown",
      "source": [
        "1. 리스트 기본 개념\n",
        "\n",
        "정의: 리스트는 여러 항목을 하나의 변수에 저장할 수 있는 파이썬의 내장 데이터 타입입니다. 리스트는 순서가 있고, 변경 가능하며, 중복값을 허용합니다.\n",
        "\n",
        "생성 방법: 대괄호 []를 사용합니다."
      ],
      "metadata": {
        "id": "WrpLBfr-1YQ3"
      }
    },
    {
      "cell_type": "code",
      "execution_count": null,
      "metadata": {
        "colab": {
          "base_uri": "https://localhost:8080/"
        },
        "id": "cuI3eTycu3SZ",
        "outputId": "cd885db6-db85-42e4-c80d-661234feec4b"
      },
      "outputs": [
        {
          "output_type": "stream",
          "name": "stdout",
          "text": [
            "['apple', 'banana', 'cherry']\n"
          ]
        }
      ],
      "source": [
        "thislist = [\"apple\", \"banana\", \"cherry\"]\n",
        "print(thislist)"
      ]
    },
    {
      "cell_type": "markdown",
      "source": [
        "2. 리스트 주요 특징\n",
        "\n",
        "순서(Ordered): 항목이 추가된 순서가 유지됩니다.\n",
        "\n",
        "변경 가능(Mutable): 항목 추가, 삭제, 변경이 가능합니다.\n",
        "\n",
        "인덱싱: 각 항목은 인덱스(0부터 시작)로 접근할 수 있습니다."
      ],
      "metadata": {
        "id": "2Nwokabj144u"
      }
    },
    {
      "cell_type": "code",
      "source": [
        "print(thislist[1])  # \"banana\""
      ],
      "metadata": {
        "colab": {
          "base_uri": "https://localhost:8080/"
        },
        "id": "H8SIqzQA17Pa",
        "outputId": "3e681b97-c472-4a88-a120-03035e3ff2c5"
      },
      "execution_count": null,
      "outputs": [
        {
          "output_type": "stream",
          "name": "stdout",
          "text": [
            "banana\n"
          ]
        }
      ]
    },
    {
      "cell_type": "markdown",
      "source": [
        "3. 리스트 관련 메소드\n",
        "\n",
        "append(): 리스트 끝에 항목 추가\n",
        "insert(): 지정된 위치에 항목 추가\n",
        "remove(): 지정된 값 제거\n",
        "pop(): 지정된 인덱스의 항목 제거 및 반환\n",
        "clear(): 모든 항목 제거\n",
        "sort(): 정렬\n",
        "reverse(): 역순 정렬 등"
      ],
      "metadata": {
        "id": "9yQbbjDx2E1V"
      }
    },
    {
      "cell_type": "code",
      "source": [
        "thislist.append(\"orange\")\n",
        "thislist.insert(1, \"mango\")\n",
        "thislist.remove(\"banana\")"
      ],
      "metadata": {
        "id": "gliOBDgQ2KHY"
      },
      "execution_count": null,
      "outputs": []
    },
    {
      "cell_type": "markdown",
      "source": [
        "4. 리스트 반복문 및 활용\n",
        "\n",
        "for 반복문: 리스트의 모든 항목을 하나씩 출력"
      ],
      "metadata": {
        "id": "ZI7qiOXp2MiZ"
      }
    },
    {
      "cell_type": "code",
      "source": [
        "for x in thislist:\n",
        "    print(x)"
      ],
      "metadata": {
        "colab": {
          "base_uri": "https://localhost:8080/"
        },
        "id": "TrX14SiM2NhJ",
        "outputId": "3b603f91-0a09-48fa-ac98-3151af401848"
      },
      "execution_count": null,
      "outputs": [
        {
          "output_type": "stream",
          "name": "stdout",
          "text": [
            "apple\n",
            "mango\n",
            "cherry\n",
            "orange\n"
          ]
        }
      ]
    },
    {
      "cell_type": "markdown",
      "source": [
        "while 반복문: 인덱스를 이용해 리스트 항목 접근"
      ],
      "metadata": {
        "id": "TdHHVd7_2PZg"
      }
    },
    {
      "cell_type": "code",
      "source": [
        "i = 0\n",
        "while i < len(thislist):\n",
        "    print(thislist[i])\n",
        "    i += 1"
      ],
      "metadata": {
        "colab": {
          "base_uri": "https://localhost:8080/"
        },
        "id": "7tiObaJ62QY0",
        "outputId": "663a54bb-9a09-4521-ee4b-a5b20e2c695f"
      },
      "execution_count": null,
      "outputs": [
        {
          "output_type": "stream",
          "name": "stdout",
          "text": [
            "apple\n",
            "mango\n",
            "cherry\n",
            "orange\n"
          ]
        }
      ]
    },
    {
      "cell_type": "markdown",
      "source": [
        "리스트 컴프리헨션: 간결하게 새로운 리스트 생성"
      ],
      "metadata": {
        "id": "kjhJzjbe2SLe"
      }
    },
    {
      "cell_type": "code",
      "source": [
        "newlist = [x for x in thislist if \"a\" in x]"
      ],
      "metadata": {
        "id": "owUgPafz2THx"
      },
      "execution_count": null,
      "outputs": []
    },
    {
      "cell_type": "markdown",
      "source": [
        "5. 리스트와 배열\n",
        "\n",
        "파이썬에는 배열(Array)이 없지만, 리스트가 배열 역할을 대신합니다.\n",
        "\n",
        "리스트는 다양한 자료형을 한 번에 저장할 수 있습니다."
      ],
      "metadata": {
        "id": "OL8kGUod2XQk"
      }
    },
    {
      "cell_type": "code",
      "source": [
        "mixed_list = [1, \"hello\", 3.14, True]"
      ],
      "metadata": {
        "id": "7yz2_H1f2YWL"
      },
      "execution_count": null,
      "outputs": []
    },
    {
      "cell_type": "markdown",
      "source": [
        "정수(int) 리스트 예제"
      ],
      "metadata": {
        "id": "WDSs6TVU5j40"
      }
    },
    {
      "cell_type": "code",
      "source": [
        "numbers = [10, 20, 30, 40]\n",
        "print(numbers)"
      ],
      "metadata": {
        "colab": {
          "base_uri": "https://localhost:8080/"
        },
        "id": "6PUNYSSu5l2Y",
        "outputId": "c5f895d8-87a2-44e2-ea74-2150f290f012"
      },
      "execution_count": null,
      "outputs": [
        {
          "output_type": "stream",
          "name": "stdout",
          "text": [
            "[10, 20, 30, 40]\n"
          ]
        }
      ]
    },
    {
      "cell_type": "markdown",
      "source": [
        "실수(float) 리스트 예제"
      ],
      "metadata": {
        "id": "FuSPagjV5ms4"
      }
    },
    {
      "cell_type": "code",
      "source": [
        "floats = [3.14, 2.71, 1.41]\n",
        "print(floats)"
      ],
      "metadata": {
        "colab": {
          "base_uri": "https://localhost:8080/"
        },
        "id": "7vLOdtLO5oEo",
        "outputId": "fa676461-0a36-42a0-b7b3-686531c1f754"
      },
      "execution_count": null,
      "outputs": [
        {
          "output_type": "stream",
          "name": "stdout",
          "text": [
            "[3.14, 2.71, 1.41]\n"
          ]
        }
      ]
    },
    {
      "cell_type": "markdown",
      "source": [
        "문자열(str) 리스트 예제"
      ],
      "metadata": {
        "id": "oVe2Pw845pqt"
      }
    },
    {
      "cell_type": "code",
      "source": [
        "fruits = [\"apple\", \"banana\", \"cherry\"]\n",
        "print(fruits)"
      ],
      "metadata": {
        "colab": {
          "base_uri": "https://localhost:8080/"
        },
        "id": "ms8lzMu15reL",
        "outputId": "1e9a6688-84e2-42d7-b79a-112d19dcc5ef"
      },
      "execution_count": null,
      "outputs": [
        {
          "output_type": "stream",
          "name": "stdout",
          "text": [
            "['apple', 'banana', 'cherry']\n"
          ]
        }
      ]
    },
    {
      "cell_type": "markdown",
      "source": [
        " 중첩 리스트(리스트 안에 리스트) 예제"
      ],
      "metadata": {
        "id": "uwuhDeHz5xKX"
      }
    },
    {
      "cell_type": "code",
      "source": [
        "matrix = [[1, 2, 3], [4, 5, 6], [7, 8, 9]]\n",
        "print(matrix)"
      ],
      "metadata": {
        "colab": {
          "base_uri": "https://localhost:8080/"
        },
        "id": "Ph6zRU955xnu",
        "outputId": "53b494cd-75c7-4ead-ac8a-86cdcc4be48f"
      },
      "execution_count": null,
      "outputs": [
        {
          "output_type": "stream",
          "name": "stdout",
          "text": [
            "[[1, 2, 3], [4, 5, 6], [7, 8, 9]]\n"
          ]
        }
      ]
    },
    {
      "cell_type": "markdown",
      "source": [
        "불리언(불대수, bool) 리스트 예제"
      ],
      "metadata": {
        "id": "L4VaWrap5tyd"
      }
    },
    {
      "cell_type": "code",
      "source": [
        "conditions = [True, False, True, False]\n",
        "print(conditions)\n"
      ],
      "metadata": {
        "colab": {
          "base_uri": "https://localhost:8080/"
        },
        "id": "FqmUUt5l5uRx",
        "outputId": "81b8999a-1a3b-43c3-86c7-20154a1beb12"
      },
      "execution_count": null,
      "outputs": [
        {
          "output_type": "stream",
          "name": "stdout",
          "text": [
            "[True, False, True, False]\n"
          ]
        }
      ]
    },
    {
      "cell_type": "markdown",
      "source": [
        "1. 웨이포인트(경로점) 리스트 생성 및 접근"
      ],
      "metadata": {
        "id": "mV-7uC9M2cdT"
      }
    },
    {
      "cell_type": "code",
      "source": [
        "waypoints = [\n",
        "    [127.385002, 36.351002],  # 대전 중심 (시작점)\n",
        "    [127.390, 36.352],        # 대전 중심에서 동쪽으로 약간 이동 (중간 지점)\n",
        "    [127.380, 36.350]         # 대전 중심에서 서쪽으로 약간 이동 (목적지)\n",
        "]\n",
        "print(\"웨이포인트:\", waypoints)"
      ],
      "metadata": {
        "colab": {
          "base_uri": "https://localhost:8080/"
        },
        "id": "Ycm4r4yg3EG9",
        "outputId": "41f333f5-2354-4656-b5f3-49a317e03247"
      },
      "execution_count": null,
      "outputs": [
        {
          "output_type": "stream",
          "name": "stdout",
          "text": [
            "웨이포인트: [[127.385002, 36.351002], [127.39, 36.352], [127.38, 36.35]]\n"
          ]
        }
      ]
    },
    {
      "cell_type": "markdown",
      "source": [
        "2. 장애물 정보 리스트 활용 (추가, 삭제)"
      ],
      "metadata": {
        "id": "A8RwHP3I3Ffo"
      }
    },
    {
      "cell_type": "code",
      "source": [
        "obstacles = [\n",
        "    [127.387, 36.352],  # 대전 중심에서 약간 북쪽에 위치한 장애물\n",
        "    [127.383, 36.350]   # 대전 중심에서 약간 남서쪽에 위치한 장애물\n",
        "]\n",
        "print(\"장애물 위치:\", obstacles)"
      ],
      "metadata": {
        "colab": {
          "base_uri": "https://localhost:8080/"
        },
        "id": "7u-jSTzT3Hp8",
        "outputId": "1c401831-82d8-4676-f640-1902ee3918c2"
      },
      "execution_count": null,
      "outputs": [
        {
          "output_type": "stream",
          "name": "stdout",
          "text": [
            "장애물 위치: [[127.387, 36.352], [127.383, 36.35]]\n"
          ]
        }
      ]
    },
    {
      "cell_type": "markdown",
      "source": [
        "3. 주변 차량 리스트에서 특정 차량 정보 확인"
      ],
      "metadata": {
        "id": "6O0sVGo13JAZ"
      }
    },
    {
      "cell_type": "code",
      "source": [
        "nearby_vehicles = [\n",
        "    [127.384, 36.351],  # 대전 중심에서 약간 서쪽에 위치한 차량\n",
        "    [127.388, 36.351],  # 대전 중심에서 약간 동쪽에 위치한 차량\n",
        "    [127.386, 36.350]   # 대전 중심에서 약간 남쪽에 위치한 차량\n",
        "]\n",
        "print(\"주변 차량 정보:\", nearby_vehicles)"
      ],
      "metadata": {
        "colab": {
          "base_uri": "https://localhost:8080/"
        },
        "id": "HCNr5IUO3Ko8",
        "outputId": "86e6d08d-62cd-4751-ff63-d3ffeafad01c"
      },
      "execution_count": null,
      "outputs": [
        {
          "output_type": "stream",
          "name": "stdout",
          "text": [
            "주변 차량 정보: [[127.384, 36.351], [127.388, 36.351], [127.386, 36.35]]\n"
          ]
        }
      ]
    },
    {
      "cell_type": "markdown",
      "source": [
        "4. 차선 정보 리스트에서 차선 좌표 추출"
      ],
      "metadata": {
        "id": "zaSNJ82M3Ltp"
      }
    },
    {
      "cell_type": "code",
      "source": [
        "lane_lines = [\n",
        "    [[127.384, 36.351], [127.386, 36.351]],  # 왼쪽 차선 (대전 중심 기준)\n",
        "    [[127.384, 36.352], [127.386, 36.352]]   # 오른쪽 차선 (대전 중심 기준)\n",
        "]\n",
        "print(\"차선 정보:\", lane_lines)"
      ],
      "metadata": {
        "colab": {
          "base_uri": "https://localhost:8080/"
        },
        "id": "upS5yA-53Lge",
        "outputId": "167aa122-0052-4d94-a1bb-1f0686a203de"
      },
      "execution_count": null,
      "outputs": [
        {
          "output_type": "stream",
          "name": "stdout",
          "text": [
            "차선 정보: [[[127.384, 36.351], [127.386, 36.351]], [[127.384, 36.352], [127.386, 36.352]]]\n"
          ]
        }
      ]
    },
    {
      "cell_type": "markdown",
      "source": [
        "5. 라이다 포인트 리스트에서 특정 범위 내 포인트만 추출"
      ],
      "metadata": {
        "id": "M_I3r_UK3T-L"
      }
    },
    {
      "cell_type": "code",
      "source": [
        "lidar_points = [\n",
        "    [127.385002, 36.351002, 1.0],  # 대전 중심, 지면에서 1.0m 높이\n",
        "    [127.385002, 36.351002, 1.1],  # 대전 중심, 지면에서 1.1m 높이\n",
        "    [127.385002, 36.351002, 1.2]   # 대전 중심, 지면에서 1.2m 높이\n",
        "]\n",
        "print(\"라이다 포인트:\", lidar_points)"
      ],
      "metadata": {
        "colab": {
          "base_uri": "https://localhost:8080/"
        },
        "id": "LQ6O8N-w3VrJ",
        "outputId": "24a3ca57-2fc1-44ed-e459-dac70ffeabb9"
      },
      "execution_count": null,
      "outputs": [
        {
          "output_type": "stream",
          "name": "stdout",
          "text": [
            "라이다 포인트: [[127.385002, 36.351002, 1.0], [127.385002, 36.351002, 1.1], [127.385002, 36.351002, 1.2]]\n"
          ]
        }
      ]
    }
  ]
}