{
  "cells": [
    {
      "cell_type": "markdown",
      "metadata": {
        "id": "view-in-github",
        "colab_type": "text"
      },
      "source": [
        "<a href=\"https://colab.research.google.com/github/yuseongil034/git_test_markdown_sample/blob/main/Colab_%EC%8B%9C%EC%9E%91%ED%95%98%EA%B8%B0.ipynb\" target=\"_parent\"><img src=\"https://colab.research.google.com/assets/colab-badge.svg\" alt=\"Open In Colab\"/></a>"
      ]
    },
    {
      "cell_type": "markdown",
      "source": [
        "평균 키 구하는 if문(연습)"
      ],
      "metadata": {
        "id": "OUSkBZcC2rAd"
      }
    },
    {
      "cell_type": "code",
      "source": [
        "h_1 = 170\n",
        "h_2 = 180\n",
        "h_3 = 190\n",
        "h_4 = 165\n",
        "h_5 = 179\n",
        "\n",
        "total = h_1 + h_2 + h_3 + h_4 + h_5\n",
        "\n",
        "avg = total / 5\n",
        "\n",
        "print(\"평균 키는\", avg)\n",
        "\n",
        "#다른사람 코드\n",
        "heights = [160, 170, 180, 175, 165]\n",
        "total = 0\n",
        "for height in heights:\n",
        "    total += height\n",
        "average = total / len(heights)\n",
        "print(\"총합:\", total)\n",
        "print(\"평균 키:\", average)\n",
        "\n",
        "\n",
        "if avg > 176.8:\n",
        "    print(\"평균 키가 보통보다 큽니다\")\n",
        "else:\n",
        "    print(\"평균 키가 보통보다 작습니다\")\n"
      ],
      "metadata": {
        "colab": {
          "base_uri": "https://localhost:8080/"
        },
        "id": "2IcsSLiHzncS",
        "outputId": "ae60b456-d40f-4099-9c15-bf5f645b2f1b"
      },
      "execution_count": 20,
      "outputs": [
        {
          "output_type": "stream",
          "name": "stdout",
          "text": [
            "평균 키는 176.8\n",
            "총합: 850\n",
            "평균 키: 170.0\n",
            "평균 키가 보통보다 작습니다\n"
          ]
        }
      ]
    },
    {
      "cell_type": "markdown",
      "source": [],
      "metadata": {
        "id": "6QKkphB14HjC"
      }
    },
    {
      "cell_type": "markdown",
      "source": [
        "기본 차선 위치 확인"
      ],
      "metadata": {
        "id": "BC3y7xNS41lK"
      }
    },
    {
      "cell_type": "code",
      "source": [
        "lane = input(\"차선 위치 상태 입력 (center / left / right): \")\n",
        "\n",
        "if lane == \"center\":\n",
        "    print(\"정상 주행 중입니다.\")\n",
        "elif lane == \"left\":\n",
        "    print(\"오른쪽으로 조향하세요.\")\n",
        "elif lane == \"right\":\n",
        "    print(\"왼쪽으로 조향하세요.\")\n",
        "else:\n",
        "    print(\"차선 정보를 인식할 수 없습니다.\")"
      ],
      "metadata": {
        "colab": {
          "base_uri": "https://localhost:8080/"
        },
        "id": "O6E_kOMr4017",
        "outputId": "3b3e39c9-7d39-4d2a-f3dd-c906662579ff"
      },
      "execution_count": 23,
      "outputs": [
        {
          "output_type": "stream",
          "name": "stdout",
          "text": [
            "차선 위치 상태 입력 (center / left / right): 45 65 10\n",
            "차선 정보를 인식할 수 없습니다.\n"
          ]
        }
      ]
    },
    {
      "cell_type": "markdown",
      "source": [
        "차선 이탈 경고"
      ],
      "metadata": {
        "id": "LuBmv0xC44Ry"
      }
    },
    {
      "cell_type": "code",
      "source": [
        "lane_status = input(\"차선 상태 (on / off): \")\n",
        "\n",
        "if lane_status == \"off\":\n",
        "    print(\"경고: 차선을 이탈했습니다! 조향하세요!\")\n",
        "else:\n",
        "    print(\"차선 내 정상 주행 중입니다.\")"
      ],
      "metadata": {
        "id": "aHT0YzyA4Hr-"
      },
      "execution_count": null,
      "outputs": []
    },
    {
      "cell_type": "markdown",
      "source": [
        "차선 이탈 및 속도 감속 판단\n",
        "python\n",
        "복사\n",
        "편집\n"
      ],
      "metadata": {
        "id": "eApnFqlr49Cb"
      }
    },
    {
      "cell_type": "code",
      "source": [
        "lane = input(\"차선 위치 상태 입력 (center / left / right): \")\n",
        "speed = int(input(\"현재 속도(km/h): \"))\n",
        "\n",
        "if lane != \"center\":\n",
        "    print(\"차선 이탈! 속도를 줄이세요.\")\n",
        "    if speed > 60:\n",
        "        print(\"과속 중입니다! 즉시 감속하세요.\")\n",
        "else:\n",
        "    print(\"정상 주행 중입니다.\")"
      ],
      "metadata": {
        "id": "jJO_emdQ4646"
      },
      "execution_count": null,
      "outputs": []
    },
    {
      "cell_type": "markdown",
      "source": [
        "센서 고장 시 알림"
      ],
      "metadata": {
        "id": "OQzyuqxU5Dqo"
      }
    },
    {
      "cell_type": "code",
      "source": [
        "lane = input(\"차선 위치 상태 입력 (center / left / right / unknown): \")\n",
        "\n",
        "if lane == \"unknown\":\n",
        "    print(\"센서 오류 발생! 안전하게 정차하세요.\")\n",
        "elif lane == \"center\":\n",
        "    print(\"정상 주행 중입니다.\")\n",
        "else:\n",
        "    print(\"차선 이탈 상태입니다. 조향 필요!\")"
      ],
      "metadata": {
        "id": "CIk2EDeb47I0"
      },
      "execution_count": null,
      "outputs": []
    },
    {
      "cell_type": "markdown",
      "source": [
        "차선 이탈 시 오디오 경고 추가"
      ],
      "metadata": {
        "id": "9q9iy6pg5LpN"
      }
    },
    {
      "cell_type": "code",
      "source": [
        "lane = input(\"차선 위치 상태 입력 (center / left / right): \")\n",
        "\n",
        "if lane == \"center\":\n",
        "    print(\"주행 정상.\")\n",
        "elif lane == \"left\":\n",
        "    print(\"왼쪽 차선 이탈! 경고음 발생!\")\n",
        "elif lane == \"right\":\n",
        "    print(\"오른쪽 차선 이탈! 경고음 발생!\")\n",
        "else:\n",
        "    print(\"차선 정보 없음. 점검 필요!\")"
      ],
      "metadata": {
        "id": "_ZipF0gl5Nec"
      },
      "execution_count": null,
      "outputs": []
    },
    {
      "cell_type": "markdown",
      "source": [
        "예시 1: 신호등 색깔에 따라 정지/출발 결정"
      ],
      "metadata": {
        "id": "3INlNOWX5e_j"
      }
    },
    {
      "cell_type": "code",
      "source": [
        "signal = input(\"신호등 색깔을 입력하세요 (green / yellow / red): \")\n",
        "\n",
        "if signal == \"green\":\n",
        "    print(\"전진합니다.\")\n",
        "elif signal == \"yellow\":\n",
        "    print(\"감속합니다.\")\n",
        "elif signal == \"red\":\n",
        "    print(\"정지합니다.\")\n",
        "else:\n",
        "    print(\"신호를 인식할 수 없습니다.\")"
      ],
      "metadata": {
        "id": "PR59nknS5ahp"
      },
      "execution_count": null,
      "outputs": []
    },
    {
      "cell_type": "markdown",
      "source": [
        "예시 2: 전방 거리 센서에 따라 정지/감속/출발 결정"
      ],
      "metadata": {
        "id": "PO82QgJe5jWu"
      }
    },
    {
      "cell_type": "code",
      "source": [
        "distance = int(input(\"전방 차량까지의 거리(cm): \"))\n",
        "\n",
        "if distance >= 100:\n",
        "    print(\"전진합니다.\")\n",
        "elif distance >= 50:\n",
        "    print(\"속도를 줄입니다.\")\n",
        "else:\n",
        "    print(\"정지합니다.\")"
      ],
      "metadata": {
        "id": "gtKNNFZU5lSL"
      },
      "execution_count": null,
      "outputs": []
    }
  ],
  "metadata": {
    "colab": {
      "name": "Colab 시작하기",
      "provenance": [],
      "include_colab_link": true
    },
    "kernelspec": {
      "display_name": "Python 3",
      "name": "python3"
    }
  },
  "nbformat": 4,
  "nbformat_minor": 0
}